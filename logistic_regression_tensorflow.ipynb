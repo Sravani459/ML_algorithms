{
  "nbformat": 4,
  "nbformat_minor": 0,
  "metadata": {
    "kernelspec": {
      "display_name": "Python 3",
      "language": "python",
      "name": "python3"
    },
    "language_info": {
      "codemirror_mode": {
        "name": "ipython",
        "version": 3
      },
      "file_extension": ".py",
      "mimetype": "text/x-python",
      "name": "python",
      "nbconvert_exporter": "python",
      "pygments_lexer": "ipython3",
      "version": "3.7.6"
    },
    "colab": {
      "name": "logistic_regression.ipynb",
      "provenance": [],
      "collapsed_sections": []
    }
  },
  "cells": [
    {
      "cell_type": "code",
      "metadata": {
        "id": "1oyfPnjA7V3x",
        "colab_type": "code",
        "colab": {}
      },
      "source": [
        "%tensorflow_version 1.x\n",
        "import tensorflow as tf\n",
        "import numpy as np # linear algebra\n",
        "import seaborn as sns #statistical data visualization\n",
        "import pandas as pd # data processing, CSV file I/O (e.g. pd.read_csv)\n",
        "import matplotlib.pyplot as plt"
      ],
      "execution_count": 0,
      "outputs": []
    },
    {
      "cell_type": "code",
      "metadata": {
        "id": "jvSZEl_W7ZFS",
        "colab_type": "code",
        "colab": {}
      },
      "source": [
        ""
      ],
      "execution_count": 0,
      "outputs": []
    },
    {
      "cell_type": "code",
      "metadata": {
        "id": "ugModfTD7Z9W",
        "colab_type": "code",
        "colab": {}
      },
      "source": [
        ""
      ],
      "execution_count": 0,
      "outputs": []
    },
    {
      "cell_type": "code",
      "metadata": {
        "scrolled": true,
        "id": "hz555YZW7V4I",
        "colab_type": "code",
        "outputId": "d1169aca-28a1-4b6d-a884-731b80bde2d2",
        "colab": {
          "base_uri": "https://localhost:8080/",
          "height": 195
        }
      },
      "source": [
        "from urllib.request import urlretrieve\n",
        "iris = 'https://gist.githubusercontent.com/curran/a08a1080b88344b0c8a7/raw/639388c2cbc2120a14dcf466e85730eb8be498bb/iris.csv'\n",
        "urlretrieve(iris)\n",
        "Iris= pd.read_csv(iris, sep=',')\n",
        "\n",
        "Iris.head()"
      ],
      "execution_count": 0,
      "outputs": [
        {
          "output_type": "execute_result",
          "data": {
            "text/html": [
              "<div>\n",
              "<style scoped>\n",
              "    .dataframe tbody tr th:only-of-type {\n",
              "        vertical-align: middle;\n",
              "    }\n",
              "\n",
              "    .dataframe tbody tr th {\n",
              "        vertical-align: top;\n",
              "    }\n",
              "\n",
              "    .dataframe thead th {\n",
              "        text-align: right;\n",
              "    }\n",
              "</style>\n",
              "<table border=\"1\" class=\"dataframe\">\n",
              "  <thead>\n",
              "    <tr style=\"text-align: right;\">\n",
              "      <th></th>\n",
              "      <th>sepal_length</th>\n",
              "      <th>sepal_width</th>\n",
              "      <th>petal_length</th>\n",
              "      <th>petal_width</th>\n",
              "      <th>species</th>\n",
              "    </tr>\n",
              "  </thead>\n",
              "  <tbody>\n",
              "    <tr>\n",
              "      <th>0</th>\n",
              "      <td>5.1</td>\n",
              "      <td>3.5</td>\n",
              "      <td>1.4</td>\n",
              "      <td>0.2</td>\n",
              "      <td>setosa</td>\n",
              "    </tr>\n",
              "    <tr>\n",
              "      <th>1</th>\n",
              "      <td>4.9</td>\n",
              "      <td>3.0</td>\n",
              "      <td>1.4</td>\n",
              "      <td>0.2</td>\n",
              "      <td>setosa</td>\n",
              "    </tr>\n",
              "    <tr>\n",
              "      <th>2</th>\n",
              "      <td>4.7</td>\n",
              "      <td>3.2</td>\n",
              "      <td>1.3</td>\n",
              "      <td>0.2</td>\n",
              "      <td>setosa</td>\n",
              "    </tr>\n",
              "    <tr>\n",
              "      <th>3</th>\n",
              "      <td>4.6</td>\n",
              "      <td>3.1</td>\n",
              "      <td>1.5</td>\n",
              "      <td>0.2</td>\n",
              "      <td>setosa</td>\n",
              "    </tr>\n",
              "    <tr>\n",
              "      <th>4</th>\n",
              "      <td>5.0</td>\n",
              "      <td>3.6</td>\n",
              "      <td>1.4</td>\n",
              "      <td>0.2</td>\n",
              "      <td>setosa</td>\n",
              "    </tr>\n",
              "  </tbody>\n",
              "</table>\n",
              "</div>"
            ],
            "text/plain": [
              "   sepal_length  sepal_width  petal_length  petal_width species\n",
              "0           5.1          3.5           1.4          0.2  setosa\n",
              "1           4.9          3.0           1.4          0.2  setosa\n",
              "2           4.7          3.2           1.3          0.2  setosa\n",
              "3           4.6          3.1           1.5          0.2  setosa\n",
              "4           5.0          3.6           1.4          0.2  setosa"
            ]
          },
          "metadata": {
            "tags": []
          },
          "execution_count": 35
        }
      ]
    },
    {
      "cell_type": "code",
      "metadata": {
        "id": "k88MXO1O7V4d",
        "colab_type": "code",
        "outputId": "1380a9fc-b421-4637-dadd-d88c18d14db2",
        "colab": {
          "base_uri": "https://localhost:8080/",
          "height": 34
        }
      },
      "source": [
        "Iris.shape\n"
      ],
      "execution_count": 0,
      "outputs": [
        {
          "output_type": "execute_result",
          "data": {
            "text/plain": [
              "(150, 5)"
            ]
          },
          "metadata": {
            "tags": []
          },
          "execution_count": 36
        }
      ]
    },
    {
      "cell_type": "code",
      "metadata": {
        "id": "toAV3IWL7V4t",
        "colab_type": "code",
        "outputId": "76300f42-df32-48ac-bcdd-31e225e24337",
        "colab": {
          "base_uri": "https://localhost:8080/",
          "height": 34
        }
      },
      "source": [
        "Iris = Iris[:-50] \n",
        "Iris.shape"
      ],
      "execution_count": 0,
      "outputs": [
        {
          "output_type": "execute_result",
          "data": {
            "text/plain": [
              "(100, 5)"
            ]
          },
          "metadata": {
            "tags": []
          },
          "execution_count": 37
        }
      ]
    },
    {
      "cell_type": "code",
      "metadata": {
        "id": "h0oRl5oq7V48",
        "colab_type": "code",
        "outputId": "c60bcb58-df1d-464f-95d9-433abe9a8646",
        "colab": {
          "base_uri": "https://localhost:8080/",
          "height": 195
        }
      },
      "source": [
        "Iris[\"species\"].replace({\"setosa\": 0, \"versicolor\": 1}, inplace=True)\n",
        "Iris.head()"
      ],
      "execution_count": 0,
      "outputs": [
        {
          "output_type": "execute_result",
          "data": {
            "text/html": [
              "<div>\n",
              "<style scoped>\n",
              "    .dataframe tbody tr th:only-of-type {\n",
              "        vertical-align: middle;\n",
              "    }\n",
              "\n",
              "    .dataframe tbody tr th {\n",
              "        vertical-align: top;\n",
              "    }\n",
              "\n",
              "    .dataframe thead th {\n",
              "        text-align: right;\n",
              "    }\n",
              "</style>\n",
              "<table border=\"1\" class=\"dataframe\">\n",
              "  <thead>\n",
              "    <tr style=\"text-align: right;\">\n",
              "      <th></th>\n",
              "      <th>sepal_length</th>\n",
              "      <th>sepal_width</th>\n",
              "      <th>petal_length</th>\n",
              "      <th>petal_width</th>\n",
              "      <th>species</th>\n",
              "    </tr>\n",
              "  </thead>\n",
              "  <tbody>\n",
              "    <tr>\n",
              "      <th>0</th>\n",
              "      <td>5.1</td>\n",
              "      <td>3.5</td>\n",
              "      <td>1.4</td>\n",
              "      <td>0.2</td>\n",
              "      <td>0</td>\n",
              "    </tr>\n",
              "    <tr>\n",
              "      <th>1</th>\n",
              "      <td>4.9</td>\n",
              "      <td>3.0</td>\n",
              "      <td>1.4</td>\n",
              "      <td>0.2</td>\n",
              "      <td>0</td>\n",
              "    </tr>\n",
              "    <tr>\n",
              "      <th>2</th>\n",
              "      <td>4.7</td>\n",
              "      <td>3.2</td>\n",
              "      <td>1.3</td>\n",
              "      <td>0.2</td>\n",
              "      <td>0</td>\n",
              "    </tr>\n",
              "    <tr>\n",
              "      <th>3</th>\n",
              "      <td>4.6</td>\n",
              "      <td>3.1</td>\n",
              "      <td>1.5</td>\n",
              "      <td>0.2</td>\n",
              "      <td>0</td>\n",
              "    </tr>\n",
              "    <tr>\n",
              "      <th>4</th>\n",
              "      <td>5.0</td>\n",
              "      <td>3.6</td>\n",
              "      <td>1.4</td>\n",
              "      <td>0.2</td>\n",
              "      <td>0</td>\n",
              "    </tr>\n",
              "  </tbody>\n",
              "</table>\n",
              "</div>"
            ],
            "text/plain": [
              "   sepal_length  sepal_width  petal_length  petal_width  species\n",
              "0           5.1          3.5           1.4          0.2        0\n",
              "1           4.9          3.0           1.4          0.2        0\n",
              "2           4.7          3.2           1.3          0.2        0\n",
              "3           4.6          3.1           1.5          0.2        0\n",
              "4           5.0          3.6           1.4          0.2        0"
            ]
          },
          "metadata": {
            "tags": []
          },
          "execution_count": 38
        }
      ]
    },
    {
      "cell_type": "code",
      "metadata": {
        "id": "gRjy3eQj7V5L",
        "colab_type": "code",
        "outputId": "3cbb1443-f506-4ab3-f960-01d4fe65fcd9",
        "colab": {
          "base_uri": "https://localhost:8080/",
          "height": 382
        }
      },
      "source": [
        "sns.set(style='whitegrid')\n",
        "sns.set(color_codes=True)\n",
        "sns.lmplot(x=\"sepal_length\",y=\"sepal_width\", data=Iris, hue=\"species\", fit_reg=False)"
      ],
      "execution_count": 0,
      "outputs": [
        {
          "output_type": "execute_result",
          "data": {
            "text/plain": [
              "<seaborn.axisgrid.FacetGrid at 0x7f4049148da0>"
            ]
          },
          "metadata": {
            "tags": []
          },
          "execution_count": 39
        },
        {
          "output_type": "display_data",
          "data": {
            "image/png": "[encoded data removed]",
            "text/plain": [
              "<Figure size 407.3x360 with 1 Axes>"
            ]
          },
          "metadata": {
            "tags": []
          }
        }
      ]
    },
    {
      "cell_type": "code",
      "metadata": {
        "id": "LZgY7y0-7V5c",
        "colab_type": "code",
        "colab": {}
      },
      "source": [
        "X = Iris.drop('species', axis=1).values #feature matrix\n",
        "Y = Iris.species.values #output\n",
        "\n"
      ],
      "execution_count": 0,
      "outputs": []
    },
    {
      "cell_type": "code",
      "metadata": {
        "scrolled": true,
        "id": "k_vruqUL7V5t",
        "colab_type": "code",
        "colab": {}
      },
      "source": [
        "seed = 5      #setting values of seed to get perfect random numbers\n",
        "np.random.seed(seed)\n",
        "tf.set_random_seed(seed)\n",
        "\n"
      ],
      "execution_count": 0,
      "outputs": []
    },
    {
      "cell_type": "code",
      "metadata": {
        "scrolled": true,
        "id": "6Jk6N9lc7V57",
        "colab_type": "code",
        "outputId": "871ee5eb-c72c-46b3-b288-d0d396013067",
        "colab": {
          "base_uri": "https://localhost:8080/",
          "height": 437
        }
      },
      "source": [
        "train_index=np.random.choice(X.shape[0], 80, replace=False)\n",
        "print(train_index)    #generating 80 row random matrix as train_index\n",
        "train_X=X[train_index,:]\n",
        "#print(train_X)\n",
        "test_index= np.array(list(set(range(len(X))) - set(train_index)))\n",
        "print(test_index)\n",
        "test_X=X[test_index]#remaining 20 row matrix as test_matrix\n",
        "print(test_X)"
      ],
      "execution_count": 0,
      "outputs": [
        {
          "output_type": "stream",
          "text": [
            "[67 86 82 50 99 27 70 28 71 74 41 68 49  9 62 94 60 97 25  7 43 16 63 53\n",
            " 72 79 15 34 23 35 47 22  2 21 89 52 83 29 87 88 77 65 51 36 61  0 66 37\n",
            " 85 64 19 98 75 13 32 69 31 92 55 30  4 44  3 39 90 96 48 95 42 26 56 11\n",
            " 17 80  1 12 38 84 45 76]\n",
            "[33  5  6  8 40 10 73 91 14 46 78 81 18 20 54 24 57 58 59 93]\n",
            "[[5.5 4.2 1.4 0.2]\n",
            " [5.4 3.9 1.7 0.4]\n",
            " [4.6 3.4 1.4 0.3]\n",
            " [4.4 2.9 1.4 0.2]\n",
            " [5.  3.5 1.3 0.3]\n",
            " [5.4 3.7 1.5 0.2]\n",
            " [6.1 2.8 4.7 1.2]\n",
            " [6.1 3.  4.6 1.4]\n",
            " [5.8 4.  1.2 0.2]\n",
            " [5.1 3.8 1.6 0.2]\n",
            " [6.  2.9 4.5 1.5]\n",
            " [5.5 2.4 3.7 1. ]\n",
            " [5.7 3.8 1.7 0.3]\n",
            " [5.4 3.4 1.7 0.2]\n",
            " [6.5 2.8 4.6 1.5]\n",
            " [4.8 3.4 1.9 0.2]\n",
            " [4.9 2.4 3.3 1. ]\n",
            " [6.6 2.9 4.6 1.3]\n",
            " [5.2 2.7 3.9 1.4]\n",
            " [5.  2.3 3.3 1. ]]\n"
          ],
          "name": "stdout"
        }
      ]
    },
    {
      "cell_type": "code",
      "metadata": {
        "id": "6kzPZ7L27V6J",
        "colab_type": "code",
        "outputId": "47c4babf-28ab-42aa-981e-d11d3be4d07d",
        "colab": {
          "base_uri": "https://localhost:8080/",
          "height": 84
        }
      },
      "source": [
        "train_Y=Y[train_index] #same with Y matrix\n",
        "print(train_Y)\n",
        "test_Y=Y[test_index]\n",
        "print(test_Y)"
      ],
      "execution_count": 0,
      "outputs": [
        {
          "output_type": "stream",
          "text": [
            "[1 1 1 1 1 0 1 0 1 1 0 1 0 0 1 1 1 1 0 0 0 0 1 1 1 1 0 0 0 0 0 0 0 0 1 1 1\n",
            " 0 1 1 1 1 1 0 1 0 1 0 1 1 0 1 1 0 0 1 0 1 1 0 0 0 0 0 1 1 0 1 0 0 1 0 0 1\n",
            " 0 0 0 1 0 1]\n",
            "[0 0 0 0 0 0 1 1 0 0 1 1 0 0 1 0 1 1 1 1]\n"
          ],
          "name": "stdout"
        }
      ]
    },
    {
      "cell_type": "code",
      "metadata": {
        "id": "rX4b1Fb1lgNB",
        "colab_type": "code",
        "colab": {}
      },
      "source": [
        "# Define the normalized function\n",
        "def min_max_normalized(data): # we are using here min-max normalisation, helpful to bring down every values in all the feature columns of the dataset to common scale \n",
        "    col_max = np.max(data, axis=0)\n",
        "    col_min = np.min(data, axis=0)\n",
        "    return np.divide(data - col_min, col_max - col_min)"
      ],
      "execution_count": 0,
      "outputs": []
    },
    {
      "cell_type": "code",
      "metadata": {
        "id": "Mb-V4OKq7V6Y",
        "colab_type": "code",
        "colab": {}
      },
      "source": [
        "data=tf.placeholder(tf.float32,shape=[None,4])  #initialising variable for putting input variable\n",
        "target=tf.placeholder(tf.float32,shape=[None,1])#initialising variable for putting output variable\n",
        "w=tf.Variable(tf.random_normal(shape=[4,1]))   #random theta matrix\n",
        "b=tf.Variable(tf.random_normal(shape=[1,1]))   #random biasing vector\n",
        "init=tf.global_variables_initializer()\n",
        "sess = tf.Session()\n",
        "sess.run(init)\n",
        "mod = tf.matmul(data, w)+b         #defining model\n",
        "loss = tf.reduce_mean(tf.nn.sigmoid_cross_entropy_with_logits(logits=mod, labels=target)) #defining loss\n",
        "learning_rate=0.003\n",
        "batch_size=30\n",
        "epochs=1500\n",
        "optimizer = tf.train.GradientDescentOptimizer(learning_rate).minimize(loss)#defining optimizer \n",
        "prediction = tf.round(tf.sigmoid(mod))  #rounds the values of sigmoid ouput into 1 or 0\n",
        "correct = tf.cast(tf.equal(prediction, target), dtype=tf.float32) #'equal' checks for equality of both prediction and target 'cast' function makes the 'correct'array 1 if equal or 0 if not equal\n",
        "accuracy = tf.reduce_mean(correct) #accuracy gives the percentages of 1 in the array'corect'\n",
        "    \n",
        "    \n",
        "    \n",
        "                                        \n",
        "\n",
        "\n",
        "\n",
        "\n",
        "    \n",
        "\n",
        "   \n",
        "    \n",
        "    \n",
        " "
      ],
      "execution_count": 0,
      "outputs": []
    },
    {
      "cell_type": "code",
      "metadata": {
        "id": "w6XRGtie7V6l",
        "colab_type": "code",
        "outputId": "bf6d2ded-4868-476d-8755-f90eb47c012b",
        "colab": {
          "base_uri": "https://localhost:8080/",
          "height": 570
        }
      },
      "source": [
        "with tf.Session() as sess:\n",
        "    sess.run(init)\n",
        "    cost_array=np.zeros(1500)\n",
        "    for epoch in range(1500):\n",
        "        rand_index = np.random.choice(len(train_X), size=batch_size)   #creates a random index with batch_size no.of rows \n",
        "        batch_x = train_X[rand_index]\n",
        "        batch_y = np.matrix(train_Y[rand_index]).T   #creates batch input and output\n",
        "        sess.run(optimizer, feed_dict={data: batch_x, target:batch_y})\n",
        "        c=sess.run(loss,feed_dict={data:batch_x,     #running optimizer,cost,accuracy\n",
        "                                   target:batch_y})\n",
        "        train_accuracy=sess.run(accuracy,feed_dict={data:batch_x,\n",
        "                                   target:batch_y})\n",
        "        \n",
        "        cost_array[epoch]=c    #store and print cost\n",
        "        if not epoch%100:\n",
        "            print(f'epoch:{epoch} cost={c} accuracy={train_accuracy}')\n",
        "\n",
        "    temp_test_acc = sess.run(accuracy, feed_dict={data: test_X, target: np.matrix(test_Y).T}) #check for test data's accuracy\n",
        "    print(' test_acc: {:5f} '.format(temp_test_acc)) \n",
        " \n",
        "      \n",
        "            \n",
        "\n",
        "plt.plot(epoch_array,cost_array)\n",
        "plt.title('Cross Entropy Loss')\n",
        "plt.xlabel('epoch')\n",
        "plt.ylabel('loss')\n",
        "plt.show()\n"
      ],
      "execution_count": 0,
      "outputs": [
        {
          "output_type": "stream",
          "text": [
            "epoch:0 cost=1.812158226966858 accuracy=0.4333333373069763\n",
            "epoch:100 cost=1.0020579099655151 accuracy=0.23333333432674408\n",
            "epoch:200 cost=0.8256641626358032 accuracy=0.30000001192092896\n",
            "epoch:300 cost=0.7881936430931091 accuracy=0.4000000059604645\n",
            "epoch:400 cost=0.582392692565918 accuracy=0.8333333134651184\n",
            "epoch:500 cost=0.4807823896408081 accuracy=0.9333333373069763\n",
            "epoch:600 cost=0.40908676385879517 accuracy=0.9666666388511658\n",
            "epoch:700 cost=0.3153690993785858 accuracy=1.0\n",
            "epoch:800 cost=0.3625240921974182 accuracy=1.0\n",
            "epoch:900 cost=0.24100074172019958 accuracy=1.0\n",
            "epoch:1000 cost=0.24157005548477173 accuracy=1.0\n",
            "epoch:1100 cost=0.24129901826381683 accuracy=1.0\n",
            "epoch:1200 cost=0.1999543160200119 accuracy=1.0\n",
            "epoch:1300 cost=0.1941661685705185 accuracy=1.0\n",
            "epoch:1400 cost=0.1809028536081314 accuracy=1.0\n",
            " test_acc: 1.000000 \n"
          ],
          "name": "stdout"
        },
        {
          "output_type": "display_data",
          "data": {
            "image/png": "[encoded data removed]",
            "text/plain": [
              "<Figure size 432x288 with 1 Axes>"
            ]
          },
          "metadata": {
            "tags": []
          }
        }
      ]
    },
    {
      "cell_type": "code",
      "metadata": {
        "id": "Hm8CV39XAVef",
        "colab_type": "code",
        "colab": {}
      },
      "source": [
        ""
      ],
      "execution_count": 0,
      "outputs": []
    }
  ]
}